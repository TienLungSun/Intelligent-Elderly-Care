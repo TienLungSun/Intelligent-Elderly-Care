{
  "cells": [
    {
      "metadata": {
        "trusted": false
      },
      "cell_type": "code",
      "source": "import torch\nimport pandas as pd\nimport matplotlib.pyplot as plt\nfrom matplotlib import cm\nfrom sklearn.manifold import TSNE",
      "execution_count": 29,
      "outputs": []
    },
    {
      "metadata": {
        "trusted": false
      },
      "cell_type": "code",
      "source": "fname = \"240特徵值-亞東醫院 - correct heading.xlsx\"",
      "execution_count": 30,
      "outputs": []
    },
    {
      "metadata": {
        "trusted": false
      },
      "cell_type": "code",
      "source": "# 如果出現 Missing optional dependency 'xlrd'. 錯誤, 在 Anaconda 安裝 xlrd 即可\n\ndf=pd.ExcelFile(fname).parse('工作表1') ",
      "execution_count": 31,
      "outputs": []
    },
    {
      "metadata": {
        "trusted": false
      },
      "cell_type": "code",
      "source": "df.head(3)",
      "execution_count": 32,
      "outputs": [
        {
          "data": {
            "text/html": "<div>\n<style scoped>\n    .dataframe tbody tr th:only-of-type {\n        vertical-align: middle;\n    }\n\n    .dataframe tbody tr th {\n        vertical-align: top;\n    }\n\n    .dataframe thead th {\n        text-align: right;\n    }\n</style>\n<table border=\"1\" class=\"dataframe\">\n  <thead>\n    <tr style=\"text-align: right;\">\n      <th></th>\n      <th>Unnamed: 0</th>\n      <th>平均數</th>\n      <th>中間值</th>\n      <th>眾數</th>\n      <th>標準差</th>\n      <th>最小值</th>\n      <th>最大值</th>\n      <th>RMS</th>\n      <th>CV</th>\n      <th>平均數.1</th>\n      <th>...</th>\n      <th>RMS.28</th>\n      <th>CV.28</th>\n      <th>平均數.29</th>\n      <th>中間值.29</th>\n      <th>眾數.29</th>\n      <th>標準差.29</th>\n      <th>最小值.29</th>\n      <th>最大值.29</th>\n      <th>RMS.29</th>\n      <th>CV.29</th>\n    </tr>\n  </thead>\n  <tbody>\n    <tr>\n      <td>0</td>\n      <td>20180115_12</td>\n      <td>-0.046786</td>\n      <td>-0.05</td>\n      <td>-0.10</td>\n      <td>0.067333</td>\n      <td>-0.14</td>\n      <td>0.11</td>\n      <td>0.080998</td>\n      <td>-1.439178</td>\n      <td>0.356429</td>\n      <td>...</td>\n      <td>125.720296</td>\n      <td>0.118774</td>\n      <td>3.267563</td>\n      <td>3.66</td>\n      <td>4.01</td>\n      <td>2.876546</td>\n      <td>-3.49</td>\n      <td>11.32</td>\n      <td>4.345337</td>\n      <td>0.880334</td>\n    </tr>\n    <tr>\n      <td>1</td>\n      <td>20180115_21</td>\n      <td>-0.180000</td>\n      <td>-0.24</td>\n      <td>-0.28</td>\n      <td>0.154056</td>\n      <td>-0.32</td>\n      <td>0.08</td>\n      <td>0.233040</td>\n      <td>-0.855868</td>\n      <td>-0.086923</td>\n      <td>...</td>\n      <td>125.681129</td>\n      <td>0.093897</td>\n      <td>8.497031</td>\n      <td>8.39</td>\n      <td>20.68</td>\n      <td>5.876040</td>\n      <td>-4.92</td>\n      <td>27.86</td>\n      <td>10.317831</td>\n      <td>0.691540</td>\n    </tr>\n    <tr>\n      <td>2</td>\n      <td>20180115_31</td>\n      <td>-0.167778</td>\n      <td>-0.16</td>\n      <td>-0.16</td>\n      <td>0.024388</td>\n      <td>-0.23</td>\n      <td>-0.12</td>\n      <td>0.169444</td>\n      <td>-0.145359</td>\n      <td>0.180000</td>\n      <td>...</td>\n      <td>125.215307</td>\n      <td>0.143233</td>\n      <td>2.397387</td>\n      <td>2.55</td>\n      <td>0.39</td>\n      <td>4.504218</td>\n      <td>-8.97</td>\n      <td>16.31</td>\n      <td>5.084553</td>\n      <td>1.878803</td>\n    </tr>\n  </tbody>\n</table>\n<p>3 rows × 241 columns</p>\n</div>",
            "text/plain": "    Unnamed: 0       平均數   中間值    眾數       標準差   最小值   最大值       RMS  \\\n0  20180115_12 -0.046786 -0.05 -0.10  0.067333 -0.14  0.11  0.080998   \n1  20180115_21 -0.180000 -0.24 -0.28  0.154056 -0.32  0.08  0.233040   \n2  20180115_31 -0.167778 -0.16 -0.16  0.024388 -0.23 -0.12  0.169444   \n\n         CV     平均數.1  ...      RMS.28     CV.28    平均數.29  中間值.29  眾數.29  \\\n0 -1.439178  0.356429  ...  125.720296  0.118774  3.267563    3.66   4.01   \n1 -0.855868 -0.086923  ...  125.681129  0.093897  8.497031    8.39  20.68   \n2 -0.145359  0.180000  ...  125.215307  0.143233  2.397387    2.55   0.39   \n\n     標準差.29  最小值.29  最大值.29     RMS.29     CV.29  \n0  2.876546   -3.49   11.32   4.345337  0.880334  \n1  5.876040   -4.92   27.86  10.317831  0.691540  \n2  4.504218   -8.97   16.31   5.084553  1.878803  \n\n[3 rows x 241 columns]"
          },
          "execution_count": 32,
          "metadata": {},
          "output_type": "execute_result"
        }
      ]
    },
    {
      "metadata": {
        "trusted": false
      },
      "cell_type": "code",
      "source": "df.columns",
      "execution_count": 33,
      "outputs": [
        {
          "data": {
            "text/plain": "Index(['Unnamed: 0', '平均數', '中間值', '眾數', '標準差', '最小值', '最大值', 'RMS', 'CV',\n       '平均數.1',\n       ...\n       'RMS.28', 'CV.28', '平均數.29', '中間值.29', '眾數.29', '標準差.29', '最小值.29',\n       '最大值.29', 'RMS.29', 'CV.29'],\n      dtype='object', length=241)"
          },
          "execution_count": 33,
          "metadata": {},
          "output_type": "execute_result"
        }
      ]
    },
    {
      "metadata": {
        "trusted": false
      },
      "cell_type": "code",
      "source": "dfX = df.drop(columns=['Unnamed: 0'])\ndfX.head(3)",
      "execution_count": 34,
      "outputs": [
        {
          "data": {
            "text/html": "<div>\n<style scoped>\n    .dataframe tbody tr th:only-of-type {\n        vertical-align: middle;\n    }\n\n    .dataframe tbody tr th {\n        vertical-align: top;\n    }\n\n    .dataframe thead th {\n        text-align: right;\n    }\n</style>\n<table border=\"1\" class=\"dataframe\">\n  <thead>\n    <tr style=\"text-align: right;\">\n      <th></th>\n      <th>平均數</th>\n      <th>中間值</th>\n      <th>眾數</th>\n      <th>標準差</th>\n      <th>最小值</th>\n      <th>最大值</th>\n      <th>RMS</th>\n      <th>CV</th>\n      <th>平均數.1</th>\n      <th>中間值.1</th>\n      <th>...</th>\n      <th>RMS.28</th>\n      <th>CV.28</th>\n      <th>平均數.29</th>\n      <th>中間值.29</th>\n      <th>眾數.29</th>\n      <th>標準差.29</th>\n      <th>最小值.29</th>\n      <th>最大值.29</th>\n      <th>RMS.29</th>\n      <th>CV.29</th>\n    </tr>\n  </thead>\n  <tbody>\n    <tr>\n      <td>0</td>\n      <td>-0.046786</td>\n      <td>-0.05</td>\n      <td>-0.10</td>\n      <td>0.067333</td>\n      <td>-0.14</td>\n      <td>0.11</td>\n      <td>0.080998</td>\n      <td>-1.439178</td>\n      <td>0.356429</td>\n      <td>0.36</td>\n      <td>...</td>\n      <td>125.720296</td>\n      <td>0.118774</td>\n      <td>3.267563</td>\n      <td>3.66</td>\n      <td>4.01</td>\n      <td>2.876546</td>\n      <td>-3.49</td>\n      <td>11.32</td>\n      <td>4.345337</td>\n      <td>0.880334</td>\n    </tr>\n    <tr>\n      <td>1</td>\n      <td>-0.180000</td>\n      <td>-0.24</td>\n      <td>-0.28</td>\n      <td>0.154056</td>\n      <td>-0.32</td>\n      <td>0.08</td>\n      <td>0.233040</td>\n      <td>-0.855868</td>\n      <td>-0.086923</td>\n      <td>-0.08</td>\n      <td>...</td>\n      <td>125.681129</td>\n      <td>0.093897</td>\n      <td>8.497031</td>\n      <td>8.39</td>\n      <td>20.68</td>\n      <td>5.876040</td>\n      <td>-4.92</td>\n      <td>27.86</td>\n      <td>10.317831</td>\n      <td>0.691540</td>\n    </tr>\n    <tr>\n      <td>2</td>\n      <td>-0.167778</td>\n      <td>-0.16</td>\n      <td>-0.16</td>\n      <td>0.024388</td>\n      <td>-0.23</td>\n      <td>-0.12</td>\n      <td>0.169444</td>\n      <td>-0.145359</td>\n      <td>0.180000</td>\n      <td>0.03</td>\n      <td>...</td>\n      <td>125.215307</td>\n      <td>0.143233</td>\n      <td>2.397387</td>\n      <td>2.55</td>\n      <td>0.39</td>\n      <td>4.504218</td>\n      <td>-8.97</td>\n      <td>16.31</td>\n      <td>5.084553</td>\n      <td>1.878803</td>\n    </tr>\n  </tbody>\n</table>\n<p>3 rows × 240 columns</p>\n</div>",
            "text/plain": "        平均數   中間值    眾數       標準差   最小值   最大值       RMS        CV     平均數.1  \\\n0 -0.046786 -0.05 -0.10  0.067333 -0.14  0.11  0.080998 -1.439178  0.356429   \n1 -0.180000 -0.24 -0.28  0.154056 -0.32  0.08  0.233040 -0.855868 -0.086923   \n2 -0.167778 -0.16 -0.16  0.024388 -0.23 -0.12  0.169444 -0.145359  0.180000   \n\n   中間值.1  ...      RMS.28     CV.28    平均數.29  中間值.29  眾數.29    標準差.29  \\\n0   0.36  ...  125.720296  0.118774  3.267563    3.66   4.01  2.876546   \n1  -0.08  ...  125.681129  0.093897  8.497031    8.39  20.68  5.876040   \n2   0.03  ...  125.215307  0.143233  2.397387    2.55   0.39  4.504218   \n\n   最小值.29  最大值.29     RMS.29     CV.29  \n0   -3.49   11.32   4.345337  0.880334  \n1   -4.92   27.86  10.317831  0.691540  \n2   -8.97   16.31   5.084553  1.878803  \n\n[3 rows x 240 columns]"
          },
          "execution_count": 34,
          "metadata": {},
          "output_type": "execute_result"
        }
      ]
    },
    {
      "metadata": {
        "trusted": false
      },
      "cell_type": "code",
      "source": "numpyX = dfX.values\nprint(numpyX.shape)",
      "execution_count": 35,
      "outputs": [
        {
          "name": "stdout",
          "output_type": "stream",
          "text": "(44, 240)\n"
        }
      ]
    },
    {
      "metadata": {
        "trusted": false
      },
      "cell_type": "code",
      "source": "dfY = df['Unnamed: 0']\ndfY.head(3)",
      "execution_count": 36,
      "outputs": [
        {
          "data": {
            "text/plain": "0    20180115_12\n1    20180115_21\n2    20180115_31\nName: Unnamed: 0, dtype: object"
          },
          "execution_count": 36,
          "metadata": {},
          "output_type": "execute_result"
        }
      ]
    },
    {
      "metadata": {
        "trusted": false
      },
      "cell_type": "code",
      "source": "numpyY = dfY.values\nprint(numpyY.shape)",
      "execution_count": 37,
      "outputs": [
        {
          "name": "stdout",
          "output_type": "stream",
          "text": "(44,)\n"
        }
      ]
    },
    {
      "metadata": {
        "trusted": false
      },
      "cell_type": "code",
      "source": "tsne = TSNE(perplexity=30, n_components=2, init='pca', n_iter=500)",
      "execution_count": 38,
      "outputs": []
    },
    {
      "metadata": {
        "trusted": false
      },
      "cell_type": "code",
      "source": "x1 = tsne.fit_transform(numpyX, numpyY)",
      "execution_count": 47,
      "outputs": []
    },
    {
      "metadata": {
        "trusted": false
      },
      "cell_type": "code",
      "source": "# x1 = tsne.fit_transform(numpyX)",
      "execution_count": 48,
      "outputs": []
    },
    {
      "metadata": {
        "trusted": false
      },
      "cell_type": "code",
      "source": "x1.shape",
      "execution_count": 49,
      "outputs": [
        {
          "data": {
            "text/plain": "(44, 2)"
          },
          "execution_count": 49,
          "metadata": {},
          "output_type": "execute_result"
        }
      ]
    },
    {
      "metadata": {
        "trusted": false
      },
      "cell_type": "code",
      "source": "plt.figure(figsize=(18,9)) \nplt.scatter(x1[:, 0], x1[:, 1], s=50, lw=0)\nplt.show()",
      "execution_count": 50,
      "outputs": [
        {
          "data": {
            "image/png": "[encoded data removed]",
            "text/plain": "<Figure size 1296x648 with 1 Axes>"
          },
          "metadata": {
            "needs_background": "light"
          },
          "output_type": "display_data"
        }
      ]
    },
    {
      "metadata": {
        "trusted": false
      },
      "cell_type": "code",
      "source": "x1.shape",
      "execution_count": 52,
      "outputs": [
        {
          "data": {
            "text/plain": "(44, 2)"
          },
          "execution_count": 52,
          "metadata": {},
          "output_type": "execute_result"
        }
      ]
    },
    {
      "metadata": {
        "trusted": false
      },
      "cell_type": "code",
      "source": "dfX1 = pd.DataFrame({'x': x1[:, 0], 'y': x1[:, 1]})\ndfX1.head(5)",
      "execution_count": 61,
      "outputs": [
        {
          "data": {
            "text/html": "<div>\n<style scoped>\n    .dataframe tbody tr th:only-of-type {\n        vertical-align: middle;\n    }\n\n    .dataframe tbody tr th {\n        vertical-align: top;\n    }\n\n    .dataframe thead th {\n        text-align: right;\n    }\n</style>\n<table border=\"1\" class=\"dataframe\">\n  <thead>\n    <tr style=\"text-align: right;\">\n      <th></th>\n      <th>x</th>\n      <th>y</th>\n    </tr>\n  </thead>\n  <tbody>\n    <tr>\n      <td>0</td>\n      <td>-68.630432</td>\n      <td>166.588669</td>\n    </tr>\n    <tr>\n      <td>1</td>\n      <td>-203.196289</td>\n      <td>-5.724751</td>\n    </tr>\n    <tr>\n      <td>2</td>\n      <td>-107.759674</td>\n      <td>-273.989746</td>\n    </tr>\n    <tr>\n      <td>3</td>\n      <td>-163.185455</td>\n      <td>103.124176</td>\n    </tr>\n    <tr>\n      <td>4</td>\n      <td>46.283115</td>\n      <td>-328.431152</td>\n    </tr>\n  </tbody>\n</table>\n</div>",
            "text/plain": "            x           y\n0  -68.630432  166.588669\n1 -203.196289   -5.724751\n2 -107.759674 -273.989746\n3 -163.185455  103.124176\n4   46.283115 -328.431152"
          },
          "execution_count": 61,
          "metadata": {},
          "output_type": "execute_result"
        }
      ]
    },
    {
      "metadata": {
        "trusted": false
      },
      "cell_type": "code",
      "source": "dfY = df['Unnamed: 0']\ndfY.head(5)",
      "execution_count": 62,
      "outputs": [
        {
          "data": {
            "text/plain": "0    20180115_12\n1    20180115_21\n2    20180115_31\n3    20180115_42\n4    20180122_11\nName: Unnamed: 0, dtype: object"
          },
          "execution_count": 62,
          "metadata": {},
          "output_type": "execute_result"
        }
      ]
    },
    {
      "metadata": {
        "trusted": false
      },
      "cell_type": "code",
      "source": "df3 = pd.concat([dfY, dfX1], axis=1)\ndf3.head(5)",
      "execution_count": 64,
      "outputs": [
        {
          "data": {
            "text/html": "<div>\n<style scoped>\n    .dataframe tbody tr th:only-of-type {\n        vertical-align: middle;\n    }\n\n    .dataframe tbody tr th {\n        vertical-align: top;\n    }\n\n    .dataframe thead th {\n        text-align: right;\n    }\n</style>\n<table border=\"1\" class=\"dataframe\">\n  <thead>\n    <tr style=\"text-align: right;\">\n      <th></th>\n      <th>Unnamed: 0</th>\n      <th>x</th>\n      <th>y</th>\n    </tr>\n  </thead>\n  <tbody>\n    <tr>\n      <td>0</td>\n      <td>20180115_12</td>\n      <td>-68.630432</td>\n      <td>166.588669</td>\n    </tr>\n    <tr>\n      <td>1</td>\n      <td>20180115_21</td>\n      <td>-203.196289</td>\n      <td>-5.724751</td>\n    </tr>\n    <tr>\n      <td>2</td>\n      <td>20180115_31</td>\n      <td>-107.759674</td>\n      <td>-273.989746</td>\n    </tr>\n    <tr>\n      <td>3</td>\n      <td>20180115_42</td>\n      <td>-163.185455</td>\n      <td>103.124176</td>\n    </tr>\n    <tr>\n      <td>4</td>\n      <td>20180122_11</td>\n      <td>46.283115</td>\n      <td>-328.431152</td>\n    </tr>\n  </tbody>\n</table>\n</div>",
            "text/plain": "    Unnamed: 0           x           y\n0  20180115_12  -68.630432  166.588669\n1  20180115_21 -203.196289   -5.724751\n2  20180115_31 -107.759674 -273.989746\n3  20180115_42 -163.185455  103.124176\n4  20180122_11   46.283115 -328.431152"
          },
          "execution_count": 64,
          "metadata": {},
          "output_type": "execute_result"
        }
      ]
    },
    {
      "metadata": {
        "trusted": false
      },
      "cell_type": "code",
      "source": "df3.to_csv(\"out.csv\", index = False)",
      "execution_count": 65,
      "outputs": []
    },
    {
      "metadata": {
        "trusted": false
      },
      "cell_type": "code",
      "source": "",
      "execution_count": null,
      "outputs": []
    }
  ],
  "metadata": {
    "kernelspec": {
      "name": "python3",
      "display_name": "Python 3",
      "language": "python"
    },
    "language_info": {
      "mimetype": "text/x-python",
      "nbconvert_exporter": "python",
      "name": "python",
      "file_extension": ".py",
      "version": "3.5.4",
      "pygments_lexer": "ipython3",
      "codemirror_mode": {
        "version": 3,
        "name": "ipython"
      }
    }
  },
  "nbformat": 4,
  "nbformat_minor": 2
}