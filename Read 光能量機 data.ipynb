{
  "nbformat": 4,
  "nbformat_minor": 5,
  "metadata": {
    "kernelspec": {
      "display_name": "Python 3",
      "language": "python",
      "name": "python3"
    },
    "language_info": {
      "codemirror_mode": {
        "name": "ipython",
        "version": 3
      },
      "file_extension": ".py",
      "mimetype": "text/x-python",
      "name": "python",
      "nbconvert_exporter": "python",
      "pygments_lexer": "ipython3",
      "version": "3.8.8"
    },
    "colab": {
      "name": "Read 光能量機 data.ipynb",
      "provenance": [],
      "include_colab_link": true
    }
  },
  "cells": [
    {
      "cell_type": "markdown",
      "metadata": {
        "id": "view-in-github",
        "colab_type": "text"
      },
      "source": [
        "<a href=\"https://colab.research.google.com/github/TienLungSun/AI-Intelligent-Elderly-Care/blob/main/Read%20%E5%85%89%E8%83%BD%E9%87%8F%E6%A9%9F%20data.ipynb\" target=\"_parent\"><img src=\"https://colab.research.google.com/assets/colab-badge.svg\" alt=\"Open In Colab\"/></a>"
      ]
    },
    {
      "cell_type": "code",
      "metadata": {
        "id": "97417917"
      },
      "source": [
        "fname = \"9 simple list.xlsx\""
      ],
      "id": "97417917",
      "execution_count": null,
      "outputs": []
    },
    {
      "cell_type": "code",
      "metadata": {
        "id": "9bd20cd5",
        "outputId": "6ee5a7a7-c66a-4ff0-e7e3-102f0db8e27d"
      },
      "source": [
        "import pandas as pd\n",
        "df=pd.read_excel(fname)\n",
        "df.head(3)"
      ],
      "id": "9bd20cd5",
      "execution_count": null,
      "outputs": [
        {
          "data": {
            "text/html": [
              "<div>\n",
              "<style scoped>\n",
              "    .dataframe tbody tr th:only-of-type {\n",
              "        vertical-align: middle;\n",
              "    }\n",
              "\n",
              "    .dataframe tbody tr th {\n",
              "        vertical-align: top;\n",
              "    }\n",
              "\n",
              "    .dataframe thead th {\n",
              "        text-align: right;\n",
              "    }\n",
              "</style>\n",
              "<table border=\"1\" class=\"dataframe\">\n",
              "  <thead>\n",
              "    <tr style=\"text-align: right;\">\n",
              "      <th></th>\n",
              "      <th>大分類</th>\n",
              "      <th>小分類</th>\n",
              "      <th>編號</th>\n",
              "      <th>ICD-Code 英文名稱</th>\n",
              "      <th>ICD-Code 中文名稱</th>\n",
              "      <th>60分鐘能量程序數</th>\n",
              "      <th>color code</th>\n",
              "      <th>frequencies</th>\n",
              "      <th>time</th>\n",
              "      <th>color code.1</th>\n",
              "      <th>...</th>\n",
              "      <th>color code.3</th>\n",
              "      <th>frequencies.3</th>\n",
              "      <th>time.3</th>\n",
              "      <th>color code.4</th>\n",
              "      <th>frequencies.4</th>\n",
              "      <th>time.4</th>\n",
              "      <th>color code.5</th>\n",
              "      <th>frequencies.5</th>\n",
              "      <th>time.5</th>\n",
              "      <th>影音編號</th>\n",
              "    </tr>\n",
              "  </thead>\n",
              "  <tbody>\n",
              "    <tr>\n",
              "      <th>0</th>\n",
              "      <td>I</td>\n",
              "      <td>I10</td>\n",
              "      <td>332</td>\n",
              "      <td>Hypertension</td>\n",
              "      <td>高血壓</td>\n",
              "      <td>1</td>\n",
              "      <td>&lt;03&gt;</td>\n",
              "      <td>6</td>\n",
              "      <td>60</td>\n",
              "      <td>NaN</td>\n",
              "      <td>...</td>\n",
              "      <td>NaN</td>\n",
              "      <td>NaN</td>\n",
              "      <td>NaN</td>\n",
              "      <td>NaN</td>\n",
              "      <td>NaN</td>\n",
              "      <td>NaN</td>\n",
              "      <td>NaN</td>\n",
              "      <td>NaN</td>\n",
              "      <td>NaN</td>\n",
              "      <td>NaN</td>\n",
              "    </tr>\n",
              "    <tr>\n",
              "      <th>1</th>\n",
              "      <td>R</td>\n",
              "      <td>R41</td>\n",
              "      <td>334</td>\n",
              "      <td>Memory loss</td>\n",
              "      <td>記憶力衰退</td>\n",
              "      <td>1</td>\n",
              "      <td>&lt;11&gt;</td>\n",
              "      <td>9</td>\n",
              "      <td>60</td>\n",
              "      <td>NaN</td>\n",
              "      <td>...</td>\n",
              "      <td>NaN</td>\n",
              "      <td>NaN</td>\n",
              "      <td>NaN</td>\n",
              "      <td>NaN</td>\n",
              "      <td>NaN</td>\n",
              "      <td>NaN</td>\n",
              "      <td>NaN</td>\n",
              "      <td>NaN</td>\n",
              "      <td>NaN</td>\n",
              "      <td>NaN</td>\n",
              "    </tr>\n",
              "    <tr>\n",
              "      <th>2</th>\n",
              "      <td>F</td>\n",
              "      <td>F60</td>\n",
              "      <td>343</td>\n",
              "      <td>Emotion liability(Upset)</td>\n",
              "      <td>情緒問題（心煩意亂）</td>\n",
              "      <td>1</td>\n",
              "      <td>&lt;03&gt;</td>\n",
              "      <td>11</td>\n",
              "      <td>60</td>\n",
              "      <td>NaN</td>\n",
              "      <td>...</td>\n",
              "      <td>NaN</td>\n",
              "      <td>NaN</td>\n",
              "      <td>NaN</td>\n",
              "      <td>NaN</td>\n",
              "      <td>NaN</td>\n",
              "      <td>NaN</td>\n",
              "      <td>NaN</td>\n",
              "      <td>NaN</td>\n",
              "      <td>NaN</td>\n",
              "      <td>NaN</td>\n",
              "    </tr>\n",
              "  </tbody>\n",
              "</table>\n",
              "<p>3 rows × 25 columns</p>\n",
              "</div>"
            ],
            "text/plain": [
              "  大分類  小分類   編號             ICD-Code 英文名稱 ICD-Code 中文名稱  60分鐘能量程序數 color code  \\\n",
              "0   I  I10  332              Hypertension          高血壓           1       <03>   \n",
              "1   R  R41  334               Memory loss         記憶力衰退          1       <11>   \n",
              "2   F  F60  343  Emotion liability(Upset)   情緒問題（心煩意亂）           1       <03>   \n",
              "\n",
              "   frequencies  time color code.1  ...  color code.3  frequencies.3 time.3  \\\n",
              "0            6    60          NaN  ...           NaN            NaN    NaN   \n",
              "1            9    60          NaN  ...           NaN            NaN    NaN   \n",
              "2           11    60          NaN  ...           NaN            NaN    NaN   \n",
              "\n",
              "   color code.4  frequencies.4 time.4  color code.5  frequencies.5  time.5  \\\n",
              "0           NaN            NaN    NaN           NaN            NaN     NaN   \n",
              "1           NaN            NaN    NaN           NaN            NaN     NaN   \n",
              "2           NaN            NaN    NaN           NaN            NaN     NaN   \n",
              "\n",
              "   影音編號  \n",
              "0   NaN  \n",
              "1   NaN  \n",
              "2   NaN  \n",
              "\n",
              "[3 rows x 25 columns]"
            ]
          },
          "execution_count": 2,
          "metadata": {},
          "output_type": "execute_result"
        }
      ]
    },
    {
      "cell_type": "code",
      "metadata": {
        "id": "bf872b8b",
        "outputId": "dc0589df-d5b4-452a-add6-d60ba9ba2a60"
      },
      "source": [
        "df.columns"
      ],
      "id": "bf872b8b",
      "execution_count": null,
      "outputs": [
        {
          "data": {
            "text/plain": [
              "Index(['大分類', '小分類', '編號', 'ICD-Code 英文名稱', 'ICD-Code 中文名稱', '60分鐘能量程序數',\n",
              "       'color code', 'frequencies', 'time', 'color code.1', 'frequencies.1',\n",
              "       'time.1', 'color code.2', 'frequencies.2', 'time.2', 'color code.3',\n",
              "       'frequencies.3', 'time.3', 'color code.4', 'frequencies.4', 'time.4',\n",
              "       'color code.5', 'frequencies.5', 'time.5', '影音編號'],\n",
              "      dtype='object')"
            ]
          },
          "execution_count": 3,
          "metadata": {},
          "output_type": "execute_result"
        }
      ]
    },
    {
      "cell_type": "code",
      "metadata": {
        "id": "6e2fb3ca",
        "outputId": "27fa82f1-a20c-48cc-e1bb-bb1b439c95f3"
      },
      "source": [
        "code = 334\n",
        "df.loc[ (df['編號'] == code) ]"
      ],
      "id": "6e2fb3ca",
      "execution_count": null,
      "outputs": [
        {
          "data": {
            "text/html": [
              "<div>\n",
              "<style scoped>\n",
              "    .dataframe tbody tr th:only-of-type {\n",
              "        vertical-align: middle;\n",
              "    }\n",
              "\n",
              "    .dataframe tbody tr th {\n",
              "        vertical-align: top;\n",
              "    }\n",
              "\n",
              "    .dataframe thead th {\n",
              "        text-align: right;\n",
              "    }\n",
              "</style>\n",
              "<table border=\"1\" class=\"dataframe\">\n",
              "  <thead>\n",
              "    <tr style=\"text-align: right;\">\n",
              "      <th></th>\n",
              "      <th>大分類</th>\n",
              "      <th>小分類</th>\n",
              "      <th>編號</th>\n",
              "      <th>ICD-Code 英文名稱</th>\n",
              "      <th>ICD-Code 中文名稱</th>\n",
              "      <th>60分鐘能量程序數</th>\n",
              "      <th>color code</th>\n",
              "      <th>frequencies</th>\n",
              "      <th>time</th>\n",
              "      <th>color code.1</th>\n",
              "      <th>...</th>\n",
              "      <th>color code.3</th>\n",
              "      <th>frequencies.3</th>\n",
              "      <th>time.3</th>\n",
              "      <th>color code.4</th>\n",
              "      <th>frequencies.4</th>\n",
              "      <th>time.4</th>\n",
              "      <th>color code.5</th>\n",
              "      <th>frequencies.5</th>\n",
              "      <th>time.5</th>\n",
              "      <th>影音編號</th>\n",
              "    </tr>\n",
              "  </thead>\n",
              "  <tbody>\n",
              "    <tr>\n",
              "      <th>1</th>\n",
              "      <td>R</td>\n",
              "      <td>R41</td>\n",
              "      <td>334</td>\n",
              "      <td>Memory loss</td>\n",
              "      <td>記憶力衰退</td>\n",
              "      <td>1</td>\n",
              "      <td>&lt;11&gt;</td>\n",
              "      <td>9</td>\n",
              "      <td>60</td>\n",
              "      <td>NaN</td>\n",
              "      <td>...</td>\n",
              "      <td>NaN</td>\n",
              "      <td>NaN</td>\n",
              "      <td>NaN</td>\n",
              "      <td>NaN</td>\n",
              "      <td>NaN</td>\n",
              "      <td>NaN</td>\n",
              "      <td>NaN</td>\n",
              "      <td>NaN</td>\n",
              "      <td>NaN</td>\n",
              "      <td>NaN</td>\n",
              "    </tr>\n",
              "  </tbody>\n",
              "</table>\n",
              "<p>1 rows × 25 columns</p>\n",
              "</div>"
            ],
            "text/plain": [
              "  大分類  小分類   編號 ICD-Code 英文名稱 ICD-Code 中文名稱  60分鐘能量程序數 color code  \\\n",
              "1   R  R41  334   Memory loss         記憶力衰退          1       <11>   \n",
              "\n",
              "   frequencies  time color code.1  ...  color code.3  frequencies.3 time.3  \\\n",
              "1            9    60          NaN  ...           NaN            NaN    NaN   \n",
              "\n",
              "   color code.4  frequencies.4 time.4  color code.5  frequencies.5  time.5  \\\n",
              "1           NaN            NaN    NaN           NaN            NaN     NaN   \n",
              "\n",
              "   影音編號  \n",
              "1   NaN  \n",
              "\n",
              "[1 rows x 25 columns]"
            ]
          },
          "execution_count": 4,
          "metadata": {},
          "output_type": "execute_result"
        }
      ]
    },
    {
      "cell_type": "code",
      "metadata": {
        "id": "3ec980d9",
        "outputId": "8593dfc5-67c1-40ac-f98f-1afca73052ac"
      },
      "source": [
        "#find rows that contain keywords\n",
        "ChineseKeyword = \"閉經\"\n",
        "data = df.loc[ df['ICD-Code 中文名稱'].str.contains(ChineseKeyword) ]\n",
        "data"
      ],
      "id": "3ec980d9",
      "execution_count": null,
      "outputs": [
        {
          "data": {
            "text/html": [
              "<div>\n",
              "<style scoped>\n",
              "    .dataframe tbody tr th:only-of-type {\n",
              "        vertical-align: middle;\n",
              "    }\n",
              "\n",
              "    .dataframe tbody tr th {\n",
              "        vertical-align: top;\n",
              "    }\n",
              "\n",
              "    .dataframe thead th {\n",
              "        text-align: right;\n",
              "    }\n",
              "</style>\n",
              "<table border=\"1\" class=\"dataframe\">\n",
              "  <thead>\n",
              "    <tr style=\"text-align: right;\">\n",
              "      <th></th>\n",
              "      <th>大分類</th>\n",
              "      <th>小分類</th>\n",
              "      <th>編號</th>\n",
              "      <th>ICD-Code 英文名稱</th>\n",
              "      <th>ICD-Code 中文名稱</th>\n",
              "      <th>60分鐘能量程序數</th>\n",
              "      <th>color code</th>\n",
              "      <th>frequencies</th>\n",
              "      <th>time</th>\n",
              "      <th>color code.1</th>\n",
              "      <th>...</th>\n",
              "      <th>color code.3</th>\n",
              "      <th>frequencies.3</th>\n",
              "      <th>time.3</th>\n",
              "      <th>color code.4</th>\n",
              "      <th>frequencies.4</th>\n",
              "      <th>time.4</th>\n",
              "      <th>color code.5</th>\n",
              "      <th>frequencies.5</th>\n",
              "      <th>time.5</th>\n",
              "      <th>影音編號</th>\n",
              "    </tr>\n",
              "  </thead>\n",
              "  <tbody>\n",
              "    <tr>\n",
              "      <th>13</th>\n",
              "      <td>N</td>\n",
              "      <td>N91</td>\n",
              "      <td>129a</td>\n",
              "      <td>Amenorrhea</td>\n",
              "      <td>閉經</td>\n",
              "      <td>4</td>\n",
              "      <td>&lt;13&gt;</td>\n",
              "      <td>2</td>\n",
              "      <td>15</td>\n",
              "      <td>&lt;02&gt;</td>\n",
              "      <td>...</td>\n",
              "      <td>&lt;19&gt;</td>\n",
              "      <td>7.0</td>\n",
              "      <td>15.0</td>\n",
              "      <td>NaN</td>\n",
              "      <td>NaN</td>\n",
              "      <td>NaN</td>\n",
              "      <td>NaN</td>\n",
              "      <td>NaN</td>\n",
              "      <td>NaN</td>\n",
              "      <td>NaN</td>\n",
              "    </tr>\n",
              "  </tbody>\n",
              "</table>\n",
              "<p>1 rows × 25 columns</p>\n",
              "</div>"
            ],
            "text/plain": [
              "   大分類  小分類    編號 ICD-Code 英文名稱 ICD-Code 中文名稱  60分鐘能量程序數 color code  \\\n",
              "13   N  N91  129a    Amenorrhea           閉經           4       <13>   \n",
              "\n",
              "    frequencies  time color code.1  ...  color code.3  frequencies.3 time.3  \\\n",
              "13            2    15         <02>  ...          <19>            7.0   15.0   \n",
              "\n",
              "    color code.4  frequencies.4 time.4  color code.5  frequencies.5  time.5  \\\n",
              "13           NaN            NaN    NaN           NaN            NaN     NaN   \n",
              "\n",
              "    影音編號  \n",
              "13   NaN  \n",
              "\n",
              "[1 rows x 25 columns]"
            ]
          },
          "execution_count": 5,
          "metadata": {},
          "output_type": "execute_result"
        }
      ]
    },
    {
      "cell_type": "code",
      "metadata": {
        "id": "c139e78e",
        "outputId": "77198d88-c136-4bcc-ebb5-6659cc9c6c3b"
      },
      "source": [
        "#convert dataframe to list\n",
        "rowLst = data.values.tolist()[0]\n",
        "print(rowLst)"
      ],
      "id": "c139e78e",
      "execution_count": null,
      "outputs": [
        {
          "name": "stdout",
          "output_type": "stream",
          "text": [
            "['N', 'N91', '129a', 'Amenorrhea', '閉經 ', 4, '<13>', 2, 15, '<02>', 7.0, 15.0, '<01>', 2.0, 15.0, '<19>', 7.0, 15.0, nan, nan, nan, nan, nan, nan, nan]\n"
          ]
        }
      ]
    },
    {
      "cell_type": "code",
      "metadata": {
        "id": "99bcb2c5",
        "outputId": "763ff703-ecfa-4703-b8bc-4428ce10da5c"
      },
      "source": [
        "#'60分鐘能量程序數'\n",
        "processNo = rowLst[5]\n",
        "print(processNo)"
      ],
      "id": "99bcb2c5",
      "execution_count": null,
      "outputs": [
        {
          "name": "stdout",
          "output_type": "stream",
          "text": [
            "4\n"
          ]
        }
      ]
    },
    {
      "cell_type": "code",
      "metadata": {
        "id": "2fdfc8ca",
        "outputId": "a0b065a5-c651-4ab6-dc5d-f475547d97cf"
      },
      "source": [
        "idx = 6 #start from column 6\n",
        "for i in range(processNo):\n",
        "    color_code = rowLst[idx] \n",
        "    #extract No from color_code \"<No>\"\n",
        "    color_code = color_code[1:] #remove first \"<\"\"\n",
        "    color_code = color_code[:-1] #remove last \">\"\n",
        "    color_code = int(color_code) #convert string to int\n",
        "    frequencies = rowLst[idx+1]\n",
        "    time =rowLst[idx+2]\n",
        "    print(color_code, frequencies, time)\n",
        "    idx = idx+3"
      ],
      "id": "2fdfc8ca",
      "execution_count": null,
      "outputs": [
        {
          "name": "stdout",
          "output_type": "stream",
          "text": [
            "13 2 15\n",
            "2 7.0 15.0\n",
            "1 2.0 15.0\n",
            "19 7.0 15.0\n"
          ]
        }
      ]
    },
    {
      "cell_type": "code",
      "metadata": {
        "id": "7fe3047e"
      },
      "source": [
        ""
      ],
      "id": "7fe3047e",
      "execution_count": null,
      "outputs": []
    }
  ]
}